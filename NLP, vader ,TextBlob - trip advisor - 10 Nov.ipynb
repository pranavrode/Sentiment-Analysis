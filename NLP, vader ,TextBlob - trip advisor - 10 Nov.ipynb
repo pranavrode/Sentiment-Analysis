{
 "cells": [
  {
   "cell_type": "code",
   "execution_count": 1,
   "id": "199963fb",
   "metadata": {},
   "outputs": [],
   "source": [
    "import pandas as pd\n",
    "import numpy as np\n",
    "import nltk\n",
    "import matplotlib.pyplot as plt"
   ]
  },
  {
   "cell_type": "code",
   "execution_count": 2,
   "id": "5da70aa8",
   "metadata": {},
   "outputs": [],
   "source": [
    "trip = pd.read_csv(r\"datasets/Trip_advisor_review.csv\")"
   ]
  },
  {
   "cell_type": "code",
   "execution_count": 3,
   "id": "6e99fa7c",
   "metadata": {},
   "outputs": [
    {
     "data": {
      "text/html": [
       "<div>\n",
       "<style scoped>\n",
       "    .dataframe tbody tr th:only-of-type {\n",
       "        vertical-align: middle;\n",
       "    }\n",
       "\n",
       "    .dataframe tbody tr th {\n",
       "        vertical-align: top;\n",
       "    }\n",
       "\n",
       "    .dataframe thead th {\n",
       "        text-align: right;\n",
       "    }\n",
       "</style>\n",
       "<table border=\"1\" class=\"dataframe\">\n",
       "  <thead>\n",
       "    <tr style=\"text-align: right;\">\n",
       "      <th></th>\n",
       "      <th>Review</th>\n",
       "      <th>Rating</th>\n",
       "    </tr>\n",
       "  </thead>\n",
       "  <tbody>\n",
       "    <tr>\n",
       "      <th>0</th>\n",
       "      <td>nice hotel expensive parking got good deal sta...</td>\n",
       "      <td>4</td>\n",
       "    </tr>\n",
       "    <tr>\n",
       "      <th>1</th>\n",
       "      <td>ok nothing special charge diamond member hilto...</td>\n",
       "      <td>2</td>\n",
       "    </tr>\n",
       "    <tr>\n",
       "      <th>2</th>\n",
       "      <td>nice rooms not 4* experience hotel monaco seat...</td>\n",
       "      <td>3</td>\n",
       "    </tr>\n",
       "    <tr>\n",
       "      <th>3</th>\n",
       "      <td>unique, great stay, wonderful time hotel monac...</td>\n",
       "      <td>5</td>\n",
       "    </tr>\n",
       "    <tr>\n",
       "      <th>4</th>\n",
       "      <td>great stay great stay, went seahawk game aweso...</td>\n",
       "      <td>5</td>\n",
       "    </tr>\n",
       "  </tbody>\n",
       "</table>\n",
       "</div>"
      ],
      "text/plain": [
       "                                              Review  Rating\n",
       "0  nice hotel expensive parking got good deal sta...       4\n",
       "1  ok nothing special charge diamond member hilto...       2\n",
       "2  nice rooms not 4* experience hotel monaco seat...       3\n",
       "3  unique, great stay, wonderful time hotel monac...       5\n",
       "4  great stay great stay, went seahawk game aweso...       5"
      ]
     },
     "execution_count": 3,
     "metadata": {},
     "output_type": "execute_result"
    }
   ],
   "source": [
    "trip.head()"
   ]
  },
  {
   "cell_type": "code",
   "execution_count": 4,
   "id": "d2581d99",
   "metadata": {},
   "outputs": [
    {
     "data": {
      "text/plain": [
       "Review    0\n",
       "Rating    0\n",
       "dtype: int64"
      ]
     },
     "execution_count": 4,
     "metadata": {},
     "output_type": "execute_result"
    }
   ],
   "source": [
    "trip.isnull().sum()"
   ]
  },
  {
   "cell_type": "code",
   "execution_count": 5,
   "id": "852870eb",
   "metadata": {},
   "outputs": [
    {
     "data": {
      "text/plain": [
       "0        4.0\n",
       "1        2.0\n",
       "2        3.0\n",
       "3        5.0\n",
       "4        5.0\n",
       "        ... \n",
       "20486    5.0\n",
       "20487    4.0\n",
       "20488    2.0\n",
       "20489    1.0\n",
       "20490    2.0\n",
       "Name: Rating, Length: 20491, dtype: float64"
      ]
     },
     "execution_count": 5,
     "metadata": {},
     "output_type": "execute_result"
    }
   ],
   "source": [
    "trip['Rating'].astype(str).astype(float)"
   ]
  },
  {
   "cell_type": "code",
   "execution_count": 6,
   "id": "c06a5303",
   "metadata": {},
   "outputs": [
    {
     "data": {
      "text/html": [
       "<div>\n",
       "<style scoped>\n",
       "    .dataframe tbody tr th:only-of-type {\n",
       "        vertical-align: middle;\n",
       "    }\n",
       "\n",
       "    .dataframe tbody tr th {\n",
       "        vertical-align: top;\n",
       "    }\n",
       "\n",
       "    .dataframe thead th {\n",
       "        text-align: right;\n",
       "    }\n",
       "</style>\n",
       "<table border=\"1\" class=\"dataframe\">\n",
       "  <thead>\n",
       "    <tr style=\"text-align: right;\">\n",
       "      <th></th>\n",
       "      <th>Review</th>\n",
       "      <th>Rating</th>\n",
       "    </tr>\n",
       "  </thead>\n",
       "  <tbody>\n",
       "    <tr>\n",
       "      <th>0</th>\n",
       "      <td>nice hotel expensive parking got good deal sta...</td>\n",
       "      <td>4</td>\n",
       "    </tr>\n",
       "    <tr>\n",
       "      <th>1</th>\n",
       "      <td>ok nothing special charge diamond member hilto...</td>\n",
       "      <td>2</td>\n",
       "    </tr>\n",
       "    <tr>\n",
       "      <th>2</th>\n",
       "      <td>nice rooms not 4* experience hotel monaco seat...</td>\n",
       "      <td>3</td>\n",
       "    </tr>\n",
       "    <tr>\n",
       "      <th>3</th>\n",
       "      <td>unique, great stay, wonderful time hotel monac...</td>\n",
       "      <td>5</td>\n",
       "    </tr>\n",
       "    <tr>\n",
       "      <th>4</th>\n",
       "      <td>great stay great stay, went seahawk game aweso...</td>\n",
       "      <td>5</td>\n",
       "    </tr>\n",
       "  </tbody>\n",
       "</table>\n",
       "</div>"
      ],
      "text/plain": [
       "                                              Review  Rating\n",
       "0  nice hotel expensive parking got good deal sta...       4\n",
       "1  ok nothing special charge diamond member hilto...       2\n",
       "2  nice rooms not 4* experience hotel monaco seat...       3\n",
       "3  unique, great stay, wonderful time hotel monac...       5\n",
       "4  great stay great stay, went seahawk game aweso...       5"
      ]
     },
     "execution_count": 6,
     "metadata": {},
     "output_type": "execute_result"
    }
   ],
   "source": [
    "trip.head()"
   ]
  },
  {
   "cell_type": "code",
   "execution_count": 7,
   "id": "bb1ee67b",
   "metadata": {},
   "outputs": [],
   "source": [
    "trip.Rating.replace({1:'neg', 2:'neg' , 3:'neu', 4:'pos' , 5:'pos'} , inplace=True)\n",
    "\n",
    "# neg = negative(rating -> 1,2)\n",
    "# neu = neutral(rating -> 3)\n",
    "# pos = positive(rating -> 4,5)"
   ]
  },
  {
   "cell_type": "code",
   "execution_count": 8,
   "id": "0c05c147",
   "metadata": {},
   "outputs": [
    {
     "name": "stdout",
     "output_type": "stream",
     "text": [
      "<class 'pandas.core.frame.DataFrame'>\n",
      "RangeIndex: 20491 entries, 0 to 20490\n",
      "Data columns (total 2 columns):\n",
      " #   Column  Non-Null Count  Dtype \n",
      "---  ------  --------------  ----- \n",
      " 0   Review  20491 non-null  object\n",
      " 1   Rating  20491 non-null  object\n",
      "dtypes: object(2)\n",
      "memory usage: 320.3+ KB\n"
     ]
    }
   ],
   "source": [
    "trip.info()"
   ]
  },
  {
   "cell_type": "code",
   "execution_count": 9,
   "id": "4fc07174",
   "metadata": {},
   "outputs": [
    {
     "data": {
      "text/html": [
       "<div>\n",
       "<style scoped>\n",
       "    .dataframe tbody tr th:only-of-type {\n",
       "        vertical-align: middle;\n",
       "    }\n",
       "\n",
       "    .dataframe tbody tr th {\n",
       "        vertical-align: top;\n",
       "    }\n",
       "\n",
       "    .dataframe thead th {\n",
       "        text-align: right;\n",
       "    }\n",
       "</style>\n",
       "<table border=\"1\" class=\"dataframe\">\n",
       "  <thead>\n",
       "    <tr style=\"text-align: right;\">\n",
       "      <th></th>\n",
       "      <th>Review</th>\n",
       "      <th>Rating</th>\n",
       "    </tr>\n",
       "  </thead>\n",
       "  <tbody>\n",
       "    <tr>\n",
       "      <th>0</th>\n",
       "      <td>nice hotel expensive parking got good deal sta...</td>\n",
       "      <td>pos</td>\n",
       "    </tr>\n",
       "    <tr>\n",
       "      <th>1</th>\n",
       "      <td>ok nothing special charge diamond member hilto...</td>\n",
       "      <td>neg</td>\n",
       "    </tr>\n",
       "    <tr>\n",
       "      <th>2</th>\n",
       "      <td>nice rooms not 4* experience hotel monaco seat...</td>\n",
       "      <td>neu</td>\n",
       "    </tr>\n",
       "    <tr>\n",
       "      <th>3</th>\n",
       "      <td>unique, great stay, wonderful time hotel monac...</td>\n",
       "      <td>pos</td>\n",
       "    </tr>\n",
       "    <tr>\n",
       "      <th>4</th>\n",
       "      <td>great stay great stay, went seahawk game aweso...</td>\n",
       "      <td>pos</td>\n",
       "    </tr>\n",
       "  </tbody>\n",
       "</table>\n",
       "</div>"
      ],
      "text/plain": [
       "                                              Review Rating\n",
       "0  nice hotel expensive parking got good deal sta...    pos\n",
       "1  ok nothing special charge diamond member hilto...    neg\n",
       "2  nice rooms not 4* experience hotel monaco seat...    neu\n",
       "3  unique, great stay, wonderful time hotel monac...    pos\n",
       "4  great stay great stay, went seahawk game aweso...    pos"
      ]
     },
     "execution_count": 9,
     "metadata": {},
     "output_type": "execute_result"
    }
   ],
   "source": [
    "trip.head()"
   ]
  },
  {
   "cell_type": "code",
   "execution_count": 10,
   "id": "ebaef283",
   "metadata": {},
   "outputs": [],
   "source": [
    "columns_titles = [\"Rating\",\"Review\"]\n",
    "trip = trip.reindex(columns=columns_titles)"
   ]
  },
  {
   "cell_type": "code",
   "execution_count": 11,
   "id": "168a115d",
   "metadata": {},
   "outputs": [
    {
     "name": "stderr",
     "output_type": "stream",
     "text": [
      "[nltk_data] Downloading package vader_lexicon to\n",
      "[nltk_data]     C:\\Users\\prana\\AppData\\Roaming\\nltk_data...\n",
      "[nltk_data]   Package vader_lexicon is already up-to-date!\n"
     ]
    },
    {
     "data": {
      "text/plain": [
       "True"
      ]
     },
     "execution_count": 11,
     "metadata": {},
     "output_type": "execute_result"
    }
   ],
   "source": [
    "from nltk.sentiment.vader import SentimentIntensityAnalyzer\n",
    "nltk.download('vader_lexicon')   # downloading pre trained dictionary"
   ]
  },
  {
   "cell_type": "code",
   "execution_count": 12,
   "id": "be80a2c1",
   "metadata": {},
   "outputs": [],
   "source": [
    "sent = SentimentIntensityAnalyzer()  # created a instance"
   ]
  },
  {
   "cell_type": "code",
   "execution_count": 13,
   "id": "8a6b02b8",
   "metadata": {},
   "outputs": [
    {
     "data": {
      "text/plain": [
       "pos    15093\n",
       "neg     3214\n",
       "neu     2184\n",
       "Name: Rating, dtype: int64"
      ]
     },
     "execution_count": 13,
     "metadata": {},
     "output_type": "execute_result"
    }
   ],
   "source": [
    "trip.Rating.value_counts()"
   ]
  },
  {
   "cell_type": "code",
   "execution_count": 14,
   "id": "f3ea7df1",
   "metadata": {},
   "outputs": [
    {
     "data": {
      "text/plain": [
       "'nice hotel expensive parking got good deal stay hotel anniversary, arrived late evening took advice previous reviews did valet parking, check quick easy, little disappointed non-existent view room room clean nice size, bed comfortable woke stiff neck high pillows, not soundproof like heard music room night morning loud bangs doors opening closing hear people talking hallway, maybe just noisy neighbors, aveda bath products nice, did not goldfish stay nice touch taken advantage staying longer, location great walking distance shopping, overall nice experience having pay 40 parking night,  '"
      ]
     },
     "execution_count": 14,
     "metadata": {},
     "output_type": "execute_result"
    }
   ],
   "source": [
    "trip.iloc[0][1]"
   ]
  },
  {
   "cell_type": "code",
   "execution_count": 15,
   "id": "10cdae6f",
   "metadata": {},
   "outputs": [
    {
     "data": {
      "text/plain": [
       "'nice hotel expensive parking got good deal stay hotel anniversary, arrived late evening took advice previous reviews did valet parking, check quick easy, little disappointed non-existent view room room clean nice size, bed comfortable woke stiff neck high pillows, not soundproof like heard music room night morning loud bangs doors opening closing hear people talking hallway, maybe just noisy neighbors, aveda bath products nice, did not goldfish stay nice touch taken advantage staying longer, location great walking distance shopping, overall nice experience having pay 40 parking night,  '"
      ]
     },
     "execution_count": 15,
     "metadata": {},
     "output_type": "execute_result"
    }
   ],
   "source": [
    "trip.iloc[0][1]"
   ]
  },
  {
   "cell_type": "code",
   "execution_count": 16,
   "id": "cb3f04ac",
   "metadata": {},
   "outputs": [
    {
     "data": {
      "text/plain": [
       "{'neg': 0.072, 'neu': 0.643, 'pos': 0.285, 'compound': 0.9747}"
      ]
     },
     "execution_count": 16,
     "metadata": {},
     "output_type": "execute_result"
    }
   ],
   "source": [
    "sent.polarity_scores(trip.iloc[0][1])"
   ]
  },
  {
   "cell_type": "code",
   "execution_count": 17,
   "id": "2a4c6189",
   "metadata": {},
   "outputs": [],
   "source": [
    "score_com = []\n",
    "score_pos = []\n",
    "score_neg = []\n",
    "score_neu = []\n",
    "for i in range(0,trip.shape[0]):\n",
    "    score = sent.polarity_scores(trip.iloc[i][1])\n",
    "    score1 = score['compound']\n",
    "    score_com.append(score1)\n",
    "    \n",
    "    score2 = score['pos']\n",
    "    score_pos.append(score2)\n",
    "    \n",
    "    score3 = score['neg']\n",
    "    score_neg.append(score3)\n",
    "    \n",
    "    score4 = score['neu']\n",
    "    score_neu.append(score4)"
   ]
  },
  {
   "cell_type": "code",
   "execution_count": 18,
   "id": "51a02a37",
   "metadata": {},
   "outputs": [],
   "source": [
    "trip['Positive_Score'] = score_pos\n",
    "trip['Negative_Score'] = score_neg\n",
    "trip['Neutral_Score'] = score_neu\n",
    "trip['Compound_Score'] = score_com"
   ]
  },
  {
   "cell_type": "code",
   "execution_count": 20,
   "id": "4b9acbff",
   "metadata": {},
   "outputs": [
    {
     "data": {
      "text/html": [
       "<div>\n",
       "<style scoped>\n",
       "    .dataframe tbody tr th:only-of-type {\n",
       "        vertical-align: middle;\n",
       "    }\n",
       "\n",
       "    .dataframe tbody tr th {\n",
       "        vertical-align: top;\n",
       "    }\n",
       "\n",
       "    .dataframe thead th {\n",
       "        text-align: right;\n",
       "    }\n",
       "</style>\n",
       "<table border=\"1\" class=\"dataframe\">\n",
       "  <thead>\n",
       "    <tr style=\"text-align: right;\">\n",
       "      <th></th>\n",
       "      <th>Rating</th>\n",
       "      <th>Review</th>\n",
       "      <th>Positive_Score</th>\n",
       "      <th>Negative_Score</th>\n",
       "      <th>Neutral_Score</th>\n",
       "      <th>Compound_Score</th>\n",
       "    </tr>\n",
       "  </thead>\n",
       "  <tbody>\n",
       "    <tr>\n",
       "      <th>0</th>\n",
       "      <td>pos</td>\n",
       "      <td>nice hotel expensive parking got good deal sta...</td>\n",
       "      <td>0.285</td>\n",
       "      <td>0.072</td>\n",
       "      <td>0.643</td>\n",
       "      <td>0.9747</td>\n",
       "    </tr>\n",
       "    <tr>\n",
       "      <th>1</th>\n",
       "      <td>neg</td>\n",
       "      <td>ok nothing special charge diamond member hilto...</td>\n",
       "      <td>0.189</td>\n",
       "      <td>0.110</td>\n",
       "      <td>0.701</td>\n",
       "      <td>0.9787</td>\n",
       "    </tr>\n",
       "    <tr>\n",
       "      <th>2</th>\n",
       "      <td>neu</td>\n",
       "      <td>nice rooms not 4* experience hotel monaco seat...</td>\n",
       "      <td>0.219</td>\n",
       "      <td>0.081</td>\n",
       "      <td>0.700</td>\n",
       "      <td>0.9889</td>\n",
       "    </tr>\n",
       "    <tr>\n",
       "      <th>3</th>\n",
       "      <td>pos</td>\n",
       "      <td>unique, great stay, wonderful time hotel monac...</td>\n",
       "      <td>0.385</td>\n",
       "      <td>0.060</td>\n",
       "      <td>0.555</td>\n",
       "      <td>0.9912</td>\n",
       "    </tr>\n",
       "    <tr>\n",
       "      <th>4</th>\n",
       "      <td>pos</td>\n",
       "      <td>great stay great stay, went seahawk game aweso...</td>\n",
       "      <td>0.221</td>\n",
       "      <td>0.135</td>\n",
       "      <td>0.643</td>\n",
       "      <td>0.9797</td>\n",
       "    </tr>\n",
       "    <tr>\n",
       "      <th>5</th>\n",
       "      <td>pos</td>\n",
       "      <td>love monaco staff husband stayed hotel crazy w...</td>\n",
       "      <td>0.265</td>\n",
       "      <td>0.084</td>\n",
       "      <td>0.651</td>\n",
       "      <td>0.9870</td>\n",
       "    </tr>\n",
       "    <tr>\n",
       "      <th>6</th>\n",
       "      <td>pos</td>\n",
       "      <td>cozy stay rainy city, husband spent 7 nights m...</td>\n",
       "      <td>0.364</td>\n",
       "      <td>0.026</td>\n",
       "      <td>0.609</td>\n",
       "      <td>0.9925</td>\n",
       "    </tr>\n",
       "    <tr>\n",
       "      <th>7</th>\n",
       "      <td>pos</td>\n",
       "      <td>excellent staff, housekeeping quality hotel ch...</td>\n",
       "      <td>0.228</td>\n",
       "      <td>0.032</td>\n",
       "      <td>0.740</td>\n",
       "      <td>0.9590</td>\n",
       "    </tr>\n",
       "    <tr>\n",
       "      <th>8</th>\n",
       "      <td>pos</td>\n",
       "      <td>hotel stayed hotel monaco cruise, rooms genero...</td>\n",
       "      <td>0.298</td>\n",
       "      <td>0.038</td>\n",
       "      <td>0.663</td>\n",
       "      <td>0.9618</td>\n",
       "    </tr>\n",
       "    <tr>\n",
       "      <th>9</th>\n",
       "      <td>pos</td>\n",
       "      <td>excellent stayed hotel monaco past w/e delight...</td>\n",
       "      <td>0.484</td>\n",
       "      <td>0.064</td>\n",
       "      <td>0.451</td>\n",
       "      <td>0.9756</td>\n",
       "    </tr>\n",
       "    <tr>\n",
       "      <th>10</th>\n",
       "      <td>neg</td>\n",
       "      <td>poor value stayed monaco seattle july, nice ho...</td>\n",
       "      <td>0.395</td>\n",
       "      <td>0.080</td>\n",
       "      <td>0.524</td>\n",
       "      <td>0.9666</td>\n",
       "    </tr>\n",
       "    <tr>\n",
       "      <th>11</th>\n",
       "      <td>pos</td>\n",
       "      <td>nice value seattle stayed 4 nights late 2007. ...</td>\n",
       "      <td>0.296</td>\n",
       "      <td>0.076</td>\n",
       "      <td>0.629</td>\n",
       "      <td>0.9242</td>\n",
       "    </tr>\n",
       "    <tr>\n",
       "      <th>12</th>\n",
       "      <td>pos</td>\n",
       "      <td>nice hotel good location hotel kimpton design ...</td>\n",
       "      <td>0.374</td>\n",
       "      <td>0.075</td>\n",
       "      <td>0.551</td>\n",
       "      <td>0.9859</td>\n",
       "    </tr>\n",
       "    <tr>\n",
       "      <th>13</th>\n",
       "      <td>neu</td>\n",
       "      <td>nice hotel not nice staff hotel lovely staff q...</td>\n",
       "      <td>0.224</td>\n",
       "      <td>0.138</td>\n",
       "      <td>0.639</td>\n",
       "      <td>0.7584</td>\n",
       "    </tr>\n",
       "    <tr>\n",
       "      <th>14</th>\n",
       "      <td>pos</td>\n",
       "      <td>great hotel night quick business trip, loved l...</td>\n",
       "      <td>0.482</td>\n",
       "      <td>0.051</td>\n",
       "      <td>0.467</td>\n",
       "      <td>0.9608</td>\n",
       "    </tr>\n",
       "    <tr>\n",
       "      <th>15</th>\n",
       "      <td>neg</td>\n",
       "      <td>horrible customer service hotel stay february ...</td>\n",
       "      <td>0.167</td>\n",
       "      <td>0.132</td>\n",
       "      <td>0.701</td>\n",
       "      <td>0.8496</td>\n",
       "    </tr>\n",
       "    <tr>\n",
       "      <th>16</th>\n",
       "      <td>neg</td>\n",
       "      <td>disappointed say anticipating stay hotel monac...</td>\n",
       "      <td>0.236</td>\n",
       "      <td>0.096</td>\n",
       "      <td>0.668</td>\n",
       "      <td>0.9905</td>\n",
       "    </tr>\n",
       "    <tr>\n",
       "      <th>17</th>\n",
       "      <td>pos</td>\n",
       "      <td>fantastic stay monaco seattle hotel monaco hol...</td>\n",
       "      <td>0.333</td>\n",
       "      <td>0.042</td>\n",
       "      <td>0.625</td>\n",
       "      <td>0.9948</td>\n",
       "    </tr>\n",
       "    <tr>\n",
       "      <th>18</th>\n",
       "      <td>pos</td>\n",
       "      <td>good choice hotel recommended sister, great lo...</td>\n",
       "      <td>0.512</td>\n",
       "      <td>0.084</td>\n",
       "      <td>0.405</td>\n",
       "      <td>0.9300</td>\n",
       "    </tr>\n",
       "    <tr>\n",
       "      <th>19</th>\n",
       "      <td>neu</td>\n",
       "      <td>hmmmmm say really high hopes hotel monaco chos...</td>\n",
       "      <td>0.252</td>\n",
       "      <td>0.033</td>\n",
       "      <td>0.715</td>\n",
       "      <td>0.9891</td>\n",
       "    </tr>\n",
       "  </tbody>\n",
       "</table>\n",
       "</div>"
      ],
      "text/plain": [
       "   Rating                                             Review  Positive_Score  \\\n",
       "0     pos  nice hotel expensive parking got good deal sta...           0.285   \n",
       "1     neg  ok nothing special charge diamond member hilto...           0.189   \n",
       "2     neu  nice rooms not 4* experience hotel monaco seat...           0.219   \n",
       "3     pos  unique, great stay, wonderful time hotel monac...           0.385   \n",
       "4     pos  great stay great stay, went seahawk game aweso...           0.221   \n",
       "5     pos  love monaco staff husband stayed hotel crazy w...           0.265   \n",
       "6     pos  cozy stay rainy city, husband spent 7 nights m...           0.364   \n",
       "7     pos  excellent staff, housekeeping quality hotel ch...           0.228   \n",
       "8     pos  hotel stayed hotel monaco cruise, rooms genero...           0.298   \n",
       "9     pos  excellent stayed hotel monaco past w/e delight...           0.484   \n",
       "10    neg  poor value stayed monaco seattle july, nice ho...           0.395   \n",
       "11    pos  nice value seattle stayed 4 nights late 2007. ...           0.296   \n",
       "12    pos  nice hotel good location hotel kimpton design ...           0.374   \n",
       "13    neu  nice hotel not nice staff hotel lovely staff q...           0.224   \n",
       "14    pos  great hotel night quick business trip, loved l...           0.482   \n",
       "15    neg  horrible customer service hotel stay february ...           0.167   \n",
       "16    neg  disappointed say anticipating stay hotel monac...           0.236   \n",
       "17    pos  fantastic stay monaco seattle hotel monaco hol...           0.333   \n",
       "18    pos  good choice hotel recommended sister, great lo...           0.512   \n",
       "19    neu  hmmmmm say really high hopes hotel monaco chos...           0.252   \n",
       "\n",
       "    Negative_Score  Neutral_Score  Compound_Score  \n",
       "0            0.072          0.643          0.9747  \n",
       "1            0.110          0.701          0.9787  \n",
       "2            0.081          0.700          0.9889  \n",
       "3            0.060          0.555          0.9912  \n",
       "4            0.135          0.643          0.9797  \n",
       "5            0.084          0.651          0.9870  \n",
       "6            0.026          0.609          0.9925  \n",
       "7            0.032          0.740          0.9590  \n",
       "8            0.038          0.663          0.9618  \n",
       "9            0.064          0.451          0.9756  \n",
       "10           0.080          0.524          0.9666  \n",
       "11           0.076          0.629          0.9242  \n",
       "12           0.075          0.551          0.9859  \n",
       "13           0.138          0.639          0.7584  \n",
       "14           0.051          0.467          0.9608  \n",
       "15           0.132          0.701          0.8496  \n",
       "16           0.096          0.668          0.9905  \n",
       "17           0.042          0.625          0.9948  \n",
       "18           0.084          0.405          0.9300  \n",
       "19           0.033          0.715          0.9891  "
      ]
     },
     "execution_count": 20,
     "metadata": {},
     "output_type": "execute_result"
    }
   ],
   "source": [
    "trip.head(20)"
   ]
  },
  {
   "cell_type": "code",
   "execution_count": 21,
   "id": "8776014a",
   "metadata": {},
   "outputs": [
    {
     "data": {
      "text/plain": [
       "0.8034298862915489"
      ]
     },
     "execution_count": 21,
     "metadata": {},
     "output_type": "execute_result"
    }
   ],
   "source": [
    "trip.Compound_Score.mean()"
   ]
  },
  {
   "cell_type": "code",
   "execution_count": 22,
   "id": "028a26d7",
   "metadata": {},
   "outputs": [
    {
     "data": {
      "text/plain": [
       "18862"
      ]
     },
     "execution_count": 22,
     "metadata": {},
     "output_type": "execute_result"
    }
   ],
   "source": [
    "len(trip.Compound_Score[trip.Compound_Score > 0])"
   ]
  },
  {
   "cell_type": "code",
   "execution_count": 23,
   "id": "40f6c2a0",
   "metadata": {},
   "outputs": [
    {
     "data": {
      "text/plain": [
       "1617"
      ]
     },
     "execution_count": 23,
     "metadata": {},
     "output_type": "execute_result"
    }
   ],
   "source": [
    "len(trip.Compound_Score[trip.Compound_Score < 0])"
   ]
  },
  {
   "cell_type": "code",
   "execution_count": 24,
   "id": "0806b43b",
   "metadata": {},
   "outputs": [
    {
     "data": {
      "text/plain": [
       "4540"
      ]
     },
     "execution_count": 24,
     "metadata": {},
     "output_type": "execute_result"
    }
   ],
   "source": [
    "len(trip.Compound_Score[trip.Compound_Score > 0.99])"
   ]
  },
  {
   "cell_type": "code",
   "execution_count": 25,
   "id": "d4f9de87",
   "metadata": {},
   "outputs": [
    {
     "data": {
      "text/plain": [
       "count    20491.000000\n",
       "mean         0.803430\n",
       "std          0.455671\n",
       "min         -0.997400\n",
       "10%          0.398700\n",
       "20%          0.875000\n",
       "30%          0.940300\n",
       "40%          0.962400\n",
       "50%          0.973800\n",
       "60%          0.981400\n",
       "70%          0.986600\n",
       "80%          0.991000\n",
       "90%          0.994800\n",
       "100%         0.999900\n",
       "max          0.999900\n",
       "Name: Compound_Score, dtype: float64"
      ]
     },
     "execution_count": 25,
     "metadata": {},
     "output_type": "execute_result"
    }
   ],
   "source": [
    "trip.Compound_Score.describe(percentiles=[0.1,0.2,0.3,0.4,0.5,0.6,0.7,0.8,0.9,1.0])"
   ]
  },
  {
   "cell_type": "code",
   "execution_count": null,
   "id": "1585584f",
   "metadata": {},
   "outputs": [],
   "source": [
    "## Using TextBlob library"
   ]
  },
  {
   "cell_type": "code",
   "execution_count": 28,
   "id": "50944052",
   "metadata": {},
   "outputs": [],
   "source": [
    "# pip install textblob   # Installing textblob library"
   ]
  },
  {
   "cell_type": "code",
   "execution_count": 29,
   "id": "fbbcca86",
   "metadata": {},
   "outputs": [],
   "source": [
    "from textblob import TextBlob"
   ]
  },
  {
   "cell_type": "code",
   "execution_count": 31,
   "id": "8237370b",
   "metadata": {},
   "outputs": [
    {
     "data": {
      "text/plain": [
       "Sentiment(polarity=-0.9099999999999998, subjectivity=0.8666666666666667)"
      ]
     },
     "execution_count": 31,
     "metadata": {},
     "output_type": "execute_result"
    }
   ],
   "source": [
    "text1 = \"the movie was very bad\"\n",
    "output = TextBlob(text1)\n",
    "output.sentiment"
   ]
  },
  {
   "cell_type": "code",
   "execution_count": 32,
   "id": "3f51947d",
   "metadata": {},
   "outputs": [],
   "source": [
    "score_pol = []\n",
    "\n",
    "\n",
    "for i in range(0,trip.shape[0]):\n",
    "    score = TextBlob(trip.iloc[i][1]).sentiment\n",
    "    score5 = score[0]\n",
    "    score_pol.append(score5)\n"
   ]
  },
  {
   "cell_type": "code",
   "execution_count": 33,
   "id": "5328b325",
   "metadata": {},
   "outputs": [],
   "source": [
    "trip['Sentiment_Score'] = score_pol"
   ]
  },
  {
   "cell_type": "code",
   "execution_count": 35,
   "id": "e13d7bd5",
   "metadata": {},
   "outputs": [
    {
     "data": {
      "text/html": [
       "<div>\n",
       "<style scoped>\n",
       "    .dataframe tbody tr th:only-of-type {\n",
       "        vertical-align: middle;\n",
       "    }\n",
       "\n",
       "    .dataframe tbody tr th {\n",
       "        vertical-align: top;\n",
       "    }\n",
       "\n",
       "    .dataframe thead th {\n",
       "        text-align: right;\n",
       "    }\n",
       "</style>\n",
       "<table border=\"1\" class=\"dataframe\">\n",
       "  <thead>\n",
       "    <tr style=\"text-align: right;\">\n",
       "      <th></th>\n",
       "      <th>Rating</th>\n",
       "      <th>Review</th>\n",
       "      <th>Positive_Score</th>\n",
       "      <th>Negative_Score</th>\n",
       "      <th>Neutral_Score</th>\n",
       "      <th>Compound_Score</th>\n",
       "      <th>Sentiment_Score</th>\n",
       "    </tr>\n",
       "  </thead>\n",
       "  <tbody>\n",
       "    <tr>\n",
       "      <th>0</th>\n",
       "      <td>pos</td>\n",
       "      <td>nice hotel expensive parking got good deal sta...</td>\n",
       "      <td>0.285</td>\n",
       "      <td>0.072</td>\n",
       "      <td>0.643</td>\n",
       "      <td>0.9747</td>\n",
       "      <td>0.208744</td>\n",
       "    </tr>\n",
       "    <tr>\n",
       "      <th>1</th>\n",
       "      <td>neg</td>\n",
       "      <td>ok nothing special charge diamond member hilto...</td>\n",
       "      <td>0.189</td>\n",
       "      <td>0.110</td>\n",
       "      <td>0.701</td>\n",
       "      <td>0.9787</td>\n",
       "      <td>0.214923</td>\n",
       "    </tr>\n",
       "    <tr>\n",
       "      <th>2</th>\n",
       "      <td>neu</td>\n",
       "      <td>nice rooms not 4* experience hotel monaco seat...</td>\n",
       "      <td>0.219</td>\n",
       "      <td>0.081</td>\n",
       "      <td>0.700</td>\n",
       "      <td>0.9889</td>\n",
       "      <td>0.294420</td>\n",
       "    </tr>\n",
       "    <tr>\n",
       "      <th>3</th>\n",
       "      <td>pos</td>\n",
       "      <td>unique, great stay, wonderful time hotel monac...</td>\n",
       "      <td>0.385</td>\n",
       "      <td>0.060</td>\n",
       "      <td>0.555</td>\n",
       "      <td>0.9912</td>\n",
       "      <td>0.504825</td>\n",
       "    </tr>\n",
       "    <tr>\n",
       "      <th>4</th>\n",
       "      <td>pos</td>\n",
       "      <td>great stay great stay, went seahawk game aweso...</td>\n",
       "      <td>0.221</td>\n",
       "      <td>0.135</td>\n",
       "      <td>0.643</td>\n",
       "      <td>0.9797</td>\n",
       "      <td>0.384615</td>\n",
       "    </tr>\n",
       "    <tr>\n",
       "      <th>5</th>\n",
       "      <td>pos</td>\n",
       "      <td>love monaco staff husband stayed hotel crazy w...</td>\n",
       "      <td>0.265</td>\n",
       "      <td>0.084</td>\n",
       "      <td>0.651</td>\n",
       "      <td>0.9870</td>\n",
       "      <td>0.243056</td>\n",
       "    </tr>\n",
       "    <tr>\n",
       "      <th>6</th>\n",
       "      <td>pos</td>\n",
       "      <td>cozy stay rainy city, husband spent 7 nights m...</td>\n",
       "      <td>0.364</td>\n",
       "      <td>0.026</td>\n",
       "      <td>0.609</td>\n",
       "      <td>0.9925</td>\n",
       "      <td>0.366661</td>\n",
       "    </tr>\n",
       "    <tr>\n",
       "      <th>7</th>\n",
       "      <td>pos</td>\n",
       "      <td>excellent staff, housekeeping quality hotel ch...</td>\n",
       "      <td>0.228</td>\n",
       "      <td>0.032</td>\n",
       "      <td>0.740</td>\n",
       "      <td>0.9590</td>\n",
       "      <td>0.562963</td>\n",
       "    </tr>\n",
       "    <tr>\n",
       "      <th>8</th>\n",
       "      <td>pos</td>\n",
       "      <td>hotel stayed hotel monaco cruise, rooms genero...</td>\n",
       "      <td>0.298</td>\n",
       "      <td>0.038</td>\n",
       "      <td>0.663</td>\n",
       "      <td>0.9618</td>\n",
       "      <td>0.312946</td>\n",
       "    </tr>\n",
       "    <tr>\n",
       "      <th>9</th>\n",
       "      <td>pos</td>\n",
       "      <td>excellent stayed hotel monaco past w/e delight...</td>\n",
       "      <td>0.484</td>\n",
       "      <td>0.064</td>\n",
       "      <td>0.451</td>\n",
       "      <td>0.9756</td>\n",
       "      <td>0.286355</td>\n",
       "    </tr>\n",
       "  </tbody>\n",
       "</table>\n",
       "</div>"
      ],
      "text/plain": [
       "  Rating                                             Review  Positive_Score  \\\n",
       "0    pos  nice hotel expensive parking got good deal sta...           0.285   \n",
       "1    neg  ok nothing special charge diamond member hilto...           0.189   \n",
       "2    neu  nice rooms not 4* experience hotel monaco seat...           0.219   \n",
       "3    pos  unique, great stay, wonderful time hotel monac...           0.385   \n",
       "4    pos  great stay great stay, went seahawk game aweso...           0.221   \n",
       "5    pos  love monaco staff husband stayed hotel crazy w...           0.265   \n",
       "6    pos  cozy stay rainy city, husband spent 7 nights m...           0.364   \n",
       "7    pos  excellent staff, housekeeping quality hotel ch...           0.228   \n",
       "8    pos  hotel stayed hotel monaco cruise, rooms genero...           0.298   \n",
       "9    pos  excellent stayed hotel monaco past w/e delight...           0.484   \n",
       "\n",
       "   Negative_Score  Neutral_Score  Compound_Score  Sentiment_Score  \n",
       "0           0.072          0.643          0.9747         0.208744  \n",
       "1           0.110          0.701          0.9787         0.214923  \n",
       "2           0.081          0.700          0.9889         0.294420  \n",
       "3           0.060          0.555          0.9912         0.504825  \n",
       "4           0.135          0.643          0.9797         0.384615  \n",
       "5           0.084          0.651          0.9870         0.243056  \n",
       "6           0.026          0.609          0.9925         0.366661  \n",
       "7           0.032          0.740          0.9590         0.562963  \n",
       "8           0.038          0.663          0.9618         0.312946  \n",
       "9           0.064          0.451          0.9756         0.286355  "
      ]
     },
     "execution_count": 35,
     "metadata": {},
     "output_type": "execute_result"
    }
   ],
   "source": [
    "trip.head(10)"
   ]
  },
  {
   "cell_type": "code",
   "execution_count": 36,
   "id": "6c3b5c10",
   "metadata": {},
   "outputs": [
    {
     "data": {
      "text/plain": [
       "19112"
      ]
     },
     "execution_count": 36,
     "metadata": {},
     "output_type": "execute_result"
    }
   ],
   "source": [
    "len(trip.Sentiment_Score[trip.Sentiment_Score > 0])"
   ]
  },
  {
   "cell_type": "code",
   "execution_count": 38,
   "id": "82f47eaa",
   "metadata": {},
   "outputs": [
    {
     "data": {
      "text/plain": [
       "1"
      ]
     },
     "execution_count": 38,
     "metadata": {},
     "output_type": "execute_result"
    }
   ],
   "source": [
    "len(trip.Sentiment_Score[trip.Sentiment_Score < -0.9])"
   ]
  },
  {
   "cell_type": "code",
   "execution_count": 39,
   "id": "e7d62f8b",
   "metadata": {},
   "outputs": [
    {
     "data": {
      "text/plain": [
       "count    20491.000000\n",
       "mean         0.274278\n",
       "std          0.181452\n",
       "min         -1.000000\n",
       "10%          0.054830\n",
       "20%          0.149242\n",
       "30%          0.202615\n",
       "40%          0.244202\n",
       "50%          0.280371\n",
       "60%          0.319345\n",
       "70%          0.360227\n",
       "80%          0.412179\n",
       "90%          0.488636\n",
       "100%         1.000000\n",
       "max          1.000000\n",
       "Name: Sentiment_Score, dtype: float64"
      ]
     },
     "execution_count": 39,
     "metadata": {},
     "output_type": "execute_result"
    }
   ],
   "source": [
    "trip.Sentiment_Score.describe(percentiles=[0.1,0.2,0.3,0.4,0.5,0.6,0.7,0.8,0.9,1.0])"
   ]
  },
  {
   "cell_type": "code",
   "execution_count": null,
   "id": "2d834413",
   "metadata": {},
   "outputs": [],
   "source": []
  }
 ],
 "metadata": {
  "kernelspec": {
   "display_name": "Python 3",
   "language": "python",
   "name": "python3"
  },
  "language_info": {
   "codemirror_mode": {
    "name": "ipython",
    "version": 3
   },
   "file_extension": ".py",
   "mimetype": "text/x-python",
   "name": "python",
   "nbconvert_exporter": "python",
   "pygments_lexer": "ipython3",
   "version": "3.8.8"
  }
 },
 "nbformat": 4,
 "nbformat_minor": 5
}
