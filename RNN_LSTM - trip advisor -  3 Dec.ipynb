{
 "cells": [
  {
   "cell_type": "code",
   "execution_count": 20,
   "id": "cccb453b",
   "metadata": {},
   "outputs": [],
   "source": [
    "import numpy as np\n",
    "import pandas as pd\n",
    "import matplotlib.pyplot as plt\n",
    "import os\n",
    "import sys\n",
    "import tensorflow as tf\n",
    "import keras.models\n",
    "from keras.layers import Conv2D , MaxPool2D , Flatten , Dense , Dropout\n",
    "from PIL import Image\n",
    "from keras.models import Model , Sequential\n",
    "from keras.layers import GlobalAveragePooling2D , BatchNormalization ;\n",
    "from keras.layers import Dense , SimpleRNN , GRU , LSTM , Embedding\n",
    "from tensorflow.keras.utils import to_categorical"
   ]
  },
  {
   "cell_type": "code",
   "execution_count": 21,
   "id": "26ced4b4",
   "metadata": {},
   "outputs": [],
   "source": [
    "trip = pd.read_csv(r\"datasets/Trip_advisor_review.csv\" )"
   ]
  },
  {
   "cell_type": "code",
   "execution_count": 22,
   "id": "564408d9",
   "metadata": {},
   "outputs": [
    {
     "data": {
      "text/html": [
       "<div>\n",
       "<style scoped>\n",
       "    .dataframe tbody tr th:only-of-type {\n",
       "        vertical-align: middle;\n",
       "    }\n",
       "\n",
       "    .dataframe tbody tr th {\n",
       "        vertical-align: top;\n",
       "    }\n",
       "\n",
       "    .dataframe thead th {\n",
       "        text-align: right;\n",
       "    }\n",
       "</style>\n",
       "<table border=\"1\" class=\"dataframe\">\n",
       "  <thead>\n",
       "    <tr style=\"text-align: right;\">\n",
       "      <th></th>\n",
       "      <th>Review</th>\n",
       "      <th>Rating</th>\n",
       "    </tr>\n",
       "  </thead>\n",
       "  <tbody>\n",
       "    <tr>\n",
       "      <th>0</th>\n",
       "      <td>nice hotel expensive parking got good deal sta...</td>\n",
       "      <td>4</td>\n",
       "    </tr>\n",
       "    <tr>\n",
       "      <th>1</th>\n",
       "      <td>ok nothing special charge diamond member hilto...</td>\n",
       "      <td>2</td>\n",
       "    </tr>\n",
       "    <tr>\n",
       "      <th>2</th>\n",
       "      <td>nice rooms not 4* experience hotel monaco seat...</td>\n",
       "      <td>3</td>\n",
       "    </tr>\n",
       "    <tr>\n",
       "      <th>3</th>\n",
       "      <td>unique, great stay, wonderful time hotel monac...</td>\n",
       "      <td>5</td>\n",
       "    </tr>\n",
       "    <tr>\n",
       "      <th>4</th>\n",
       "      <td>great stay great stay, went seahawk game aweso...</td>\n",
       "      <td>5</td>\n",
       "    </tr>\n",
       "  </tbody>\n",
       "</table>\n",
       "</div>"
      ],
      "text/plain": [
       "                                              Review  Rating\n",
       "0  nice hotel expensive parking got good deal sta...       4\n",
       "1  ok nothing special charge diamond member hilto...       2\n",
       "2  nice rooms not 4* experience hotel monaco seat...       3\n",
       "3  unique, great stay, wonderful time hotel monac...       5\n",
       "4  great stay great stay, went seahawk game aweso...       5"
      ]
     },
     "execution_count": 22,
     "metadata": {},
     "output_type": "execute_result"
    }
   ],
   "source": [
    "trip.shape\n",
    "trip.iloc[: , [0,1]]\n",
    "trip.head()"
   ]
  },
  {
   "cell_type": "code",
   "execution_count": 23,
   "id": "bb3364f8",
   "metadata": {},
   "outputs": [],
   "source": [
    "cols = ['Rating' , 'Review']\n",
    "trip = trip[cols]"
   ]
  },
  {
   "cell_type": "code",
   "execution_count": 24,
   "id": "db0a2076",
   "metadata": {},
   "outputs": [
    {
     "data": {
      "text/html": [
       "<div>\n",
       "<style scoped>\n",
       "    .dataframe tbody tr th:only-of-type {\n",
       "        vertical-align: middle;\n",
       "    }\n",
       "\n",
       "    .dataframe tbody tr th {\n",
       "        vertical-align: top;\n",
       "    }\n",
       "\n",
       "    .dataframe thead th {\n",
       "        text-align: right;\n",
       "    }\n",
       "</style>\n",
       "<table border=\"1\" class=\"dataframe\">\n",
       "  <thead>\n",
       "    <tr style=\"text-align: right;\">\n",
       "      <th></th>\n",
       "      <th>Rating</th>\n",
       "      <th>Review</th>\n",
       "    </tr>\n",
       "  </thead>\n",
       "  <tbody>\n",
       "    <tr>\n",
       "      <th>0</th>\n",
       "      <td>4</td>\n",
       "      <td>nice hotel expensive parking got good deal sta...</td>\n",
       "    </tr>\n",
       "    <tr>\n",
       "      <th>1</th>\n",
       "      <td>2</td>\n",
       "      <td>ok nothing special charge diamond member hilto...</td>\n",
       "    </tr>\n",
       "    <tr>\n",
       "      <th>2</th>\n",
       "      <td>3</td>\n",
       "      <td>nice rooms not 4* experience hotel monaco seat...</td>\n",
       "    </tr>\n",
       "    <tr>\n",
       "      <th>3</th>\n",
       "      <td>5</td>\n",
       "      <td>unique, great stay, wonderful time hotel monac...</td>\n",
       "    </tr>\n",
       "    <tr>\n",
       "      <th>4</th>\n",
       "      <td>5</td>\n",
       "      <td>great stay great stay, went seahawk game aweso...</td>\n",
       "    </tr>\n",
       "    <tr>\n",
       "      <th>...</th>\n",
       "      <td>...</td>\n",
       "      <td>...</td>\n",
       "    </tr>\n",
       "    <tr>\n",
       "      <th>20486</th>\n",
       "      <td>5</td>\n",
       "      <td>best kept secret 3rd time staying charm, not 5...</td>\n",
       "    </tr>\n",
       "    <tr>\n",
       "      <th>20487</th>\n",
       "      <td>4</td>\n",
       "      <td>great location price view hotel great quick pl...</td>\n",
       "    </tr>\n",
       "    <tr>\n",
       "      <th>20488</th>\n",
       "      <td>2</td>\n",
       "      <td>ok just looks nice modern outside, desk staff ...</td>\n",
       "    </tr>\n",
       "    <tr>\n",
       "      <th>20489</th>\n",
       "      <td>1</td>\n",
       "      <td>hotel theft ruined vacation hotel opened sept ...</td>\n",
       "    </tr>\n",
       "    <tr>\n",
       "      <th>20490</th>\n",
       "      <td>2</td>\n",
       "      <td>people talking, ca n't believe excellent ratin...</td>\n",
       "    </tr>\n",
       "  </tbody>\n",
       "</table>\n",
       "<p>20491 rows × 2 columns</p>\n",
       "</div>"
      ],
      "text/plain": [
       "       Rating                                             Review\n",
       "0           4  nice hotel expensive parking got good deal sta...\n",
       "1           2  ok nothing special charge diamond member hilto...\n",
       "2           3  nice rooms not 4* experience hotel monaco seat...\n",
       "3           5  unique, great stay, wonderful time hotel monac...\n",
       "4           5  great stay great stay, went seahawk game aweso...\n",
       "...       ...                                                ...\n",
       "20486       5  best kept secret 3rd time staying charm, not 5...\n",
       "20487       4  great location price view hotel great quick pl...\n",
       "20488       2  ok just looks nice modern outside, desk staff ...\n",
       "20489       1  hotel theft ruined vacation hotel opened sept ...\n",
       "20490       2  people talking, ca n't believe excellent ratin...\n",
       "\n",
       "[20491 rows x 2 columns]"
      ]
     },
     "execution_count": 24,
     "metadata": {},
     "output_type": "execute_result"
    }
   ],
   "source": [
    "trip"
   ]
  },
  {
   "cell_type": "code",
   "execution_count": 36,
   "id": "a11b9a28",
   "metadata": {},
   "outputs": [],
   "source": [
    "trip_x = trip.iloc[: , 1]\n",
    "trip_y = trip.iloc[: , 0]\n",
    "from sklearn.model_selection import train_test_split"
   ]
  },
  {
   "cell_type": "code",
   "execution_count": 38,
   "id": "5edd5d3a",
   "metadata": {},
   "outputs": [],
   "source": [
    "x_train , x_test , y_train , y_test = train_test_split(trip_x , trip_y ,test_size=0.2)"
   ]
  },
  {
   "cell_type": "code",
   "execution_count": 39,
   "id": "04fbc108",
   "metadata": {},
   "outputs": [
    {
     "name": "stdout",
     "output_type": "stream",
     "text": [
      "(16392,)\n",
      "(16392,)\n",
      "-----------\n",
      "(4099,)\n",
      "(4099,)\n"
     ]
    }
   ],
   "source": [
    "print(x_train.shape)\n",
    "print(y_train.shape)\n",
    "print(\"-----------\")\n",
    "print(x_test.shape)\n",
    "print(y_test.shape)"
   ]
  },
  {
   "cell_type": "code",
   "execution_count": 40,
   "id": "215bd65b",
   "metadata": {},
   "outputs": [],
   "source": [
    "y_train = to_categorical(y_train)\n",
    "y_test = to_categorical(y_test)\n",
    "\n",
    "# to_categorical is used for Label one hot encoding"
   ]
  },
  {
   "cell_type": "code",
   "execution_count": 42,
   "id": "287bcbdf",
   "metadata": {},
   "outputs": [
    {
     "data": {
      "text/plain": [
       "array([[0., 0., 0., 0., 0., 1.],\n",
       "       [0., 0., 0., 0., 0., 1.],\n",
       "       [0., 0., 0., 0., 0., 1.],\n",
       "       ...,\n",
       "       [0., 0., 0., 0., 0., 1.],\n",
       "       [0., 0., 0., 0., 0., 1.],\n",
       "       [0., 0., 0., 0., 1., 0.]], dtype=float32)"
      ]
     },
     "execution_count": 42,
     "metadata": {},
     "output_type": "execute_result"
    }
   ],
   "source": [
    "y_train"
   ]
  },
  {
   "cell_type": "code",
   "execution_count": 43,
   "id": "e0c5dab6",
   "metadata": {},
   "outputs": [
    {
     "data": {
      "text/plain": [
       "(16392, 6)"
      ]
     },
     "execution_count": 43,
     "metadata": {},
     "output_type": "execute_result"
    }
   ],
   "source": [
    "y_train.shape"
   ]
  },
  {
   "cell_type": "code",
   "execution_count": 44,
   "id": "140181e6",
   "metadata": {},
   "outputs": [],
   "source": [
    "max_num_words  = 10000  # how many words do we consider from entire CORPUS\n",
    "seq_len        = 50     # how many tokens(words to consider in each document / message)\n",
    "embedding_size = 100    # vector length of each word"
   ]
  },
  {
   "cell_type": "code",
   "execution_count": 45,
   "id": "8fdbb4e1",
   "metadata": {},
   "outputs": [],
   "source": [
    "from keras.preprocessing.text import Tokenizer   # used for tokenization\n",
    "from keras.preprocessing.sequence import pad_sequences  # used to bring all samples to same length"
   ]
  },
  {
   "cell_type": "code",
   "execution_count": 46,
   "id": "2003e431",
   "metadata": {},
   "outputs": [],
   "source": [
    "tokenizer = Tokenizer(num_words = max_num_words)\n",
    "tokenizer.fit_on_texts(trip.Review)\n",
    "x_train = tokenizer.texts_to_sequences(x_train)  # will convert the text to sequences of IDs\n",
    "x_train = pad_sequences(x_train , maxlen= seq_len)\n",
    "\n",
    "x_test = tokenizer.texts_to_sequences(x_test)\n",
    "x_test = pad_sequences(x_test , maxlen= seq_len)"
   ]
  },
  {
   "cell_type": "code",
   "execution_count": 49,
   "id": "08ec3a35",
   "metadata": {},
   "outputs": [
    {
     "name": "stdout",
     "output_type": "stream",
     "text": [
      "Epoch 1/7\n",
      "410/410 [==============================] - 18s 36ms/step - loss: 1.2542 - accuracy: 0.4750 - val_loss: 1.0866 - val_accuracy: 0.5364\n",
      "Epoch 2/7\n",
      "410/410 [==============================] - 15s 36ms/step - loss: 0.9391 - accuracy: 0.6108 - val_loss: 1.0230 - val_accuracy: 0.5541\n",
      "Epoch 3/7\n",
      "410/410 [==============================] - 15s 38ms/step - loss: 0.7629 - accuracy: 0.6993 - val_loss: 1.0851 - val_accuracy: 0.5471\n",
      "Epoch 4/7\n",
      "410/410 [==============================] - 19s 48ms/step - loss: 0.6294 - accuracy: 0.7692 - val_loss: 1.1693 - val_accuracy: 0.5364\n",
      "Epoch 5/7\n",
      "410/410 [==============================] - 20s 48ms/step - loss: 0.4980 - accuracy: 0.8335 - val_loss: 1.2642 - val_accuracy: 0.5310\n",
      "Epoch 6/7\n",
      "410/410 [==============================] - 19s 46ms/step - loss: 0.4035 - accuracy: 0.8690 - val_loss: 1.3481 - val_accuracy: 0.5294\n",
      "Epoch 7/7\n",
      "410/410 [==============================] - 21s 51ms/step - loss: 0.3222 - accuracy: 0.9041 - val_loss: 1.4520 - val_accuracy: 0.5343\n"
     ]
    },
    {
     "data": {
      "text/plain": [
       "<keras.callbacks.History at 0x1f6c508a2e0>"
      ]
     },
     "execution_count": 49,
     "metadata": {},
     "output_type": "execute_result"
    }
   ],
   "source": [
    "model = Sequential()     # initialize the network\n",
    "model.add(Embedding(input_dim = max_num_words , \n",
    "                   input_length = seq_len ,\n",
    "                   output_dim = embedding_size ) )\n",
    "\n",
    "#------------------\n",
    "\n",
    "model.add(LSTM(10))\n",
    "model.add(Dense(6 , activation='softmax'))\n",
    "model.compile(optimizer='adam' , loss = 'categorical_crossentropy' , metrics=['accuracy'] )\n",
    "model.fit(x_train , y_train , epochs = 7 , batch_size = 32 , validation_split=0.2)"
   ]
  },
  {
   "cell_type": "code",
   "execution_count": 48,
   "id": "8fbf659a",
   "metadata": {},
   "outputs": [
    {
     "data": {
      "text/plain": [
       "array([[5.6421524e-04, 9.9943572e-01],\n",
       "       [9.8882301e-04, 9.9901116e-01],\n",
       "       [2.3265025e-03, 9.9767345e-01],\n",
       "       ...,\n",
       "       [9.8769343e-04, 9.9901223e-01],\n",
       "       [9.9641430e-01, 3.5857095e-03],\n",
       "       [4.3154694e-04, 9.9956840e-01]], dtype=float32)"
      ]
     },
     "execution_count": 48,
     "metadata": {},
     "output_type": "execute_result"
    }
   ],
   "source": [
    "pred = model.predict(x_test)\n",
    "pred"
   ]
  },
  {
   "cell_type": "code",
   "execution_count": 49,
   "id": "f2dceb38",
   "metadata": {},
   "outputs": [
    {
     "data": {
      "text/plain": [
       "array([[ 192,    2],\n",
       "       [  10, 1152]], dtype=int64)"
      ]
     },
     "execution_count": 49,
     "metadata": {},
     "output_type": "execute_result"
    }
   ],
   "source": [
    "from sklearn.metrics import confusion_matrix\n",
    "tab = confusion_matrix(np.argmax(pred , 1) , np.argmax(y_test , 1) ) \n",
    "tab"
   ]
  },
  {
   "cell_type": "code",
   "execution_count": 50,
   "id": "c3033dc8",
   "metadata": {},
   "outputs": [
    {
     "data": {
      "text/plain": [
       "99.11504424778761"
      ]
     },
     "execution_count": 50,
     "metadata": {},
     "output_type": "execute_result"
    }
   ],
   "source": [
    "Acc = tab.diagonal().sum() *100 / tab.sum()\n",
    "Acc"
   ]
  },
  {
   "cell_type": "code",
   "execution_count": null,
   "id": "c18ab952",
   "metadata": {},
   "outputs": [],
   "source": []
  },
  {
   "cell_type": "code",
   "execution_count": null,
   "id": "2f39233b",
   "metadata": {},
   "outputs": [],
   "source": []
  }
 ],
 "metadata": {
  "kernelspec": {
   "display_name": "Python 3",
   "language": "python",
   "name": "python3"
  },
  "language_info": {
   "codemirror_mode": {
    "name": "ipython",
    "version": 3
   },
   "file_extension": ".py",
   "mimetype": "text/x-python",
   "name": "python",
   "nbconvert_exporter": "python",
   "pygments_lexer": "ipython3",
   "version": "3.8.8"
  }
 },
 "nbformat": 4,
 "nbformat_minor": 5
}
